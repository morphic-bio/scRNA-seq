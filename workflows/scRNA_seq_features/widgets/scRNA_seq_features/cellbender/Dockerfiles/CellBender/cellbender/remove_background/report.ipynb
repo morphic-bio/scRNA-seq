{
 "cells": [
  {
   "cell_type": "markdown",
   "metadata": {},
   "source": [
    "# CellBender `remove-background` report"
   ]
  },
  {
   "cell_type": "markdown",
   "metadata": {},
   "source": [
    "This output report from `cellbender remove-background` contains a summary of the run, including counts remaining, counts removed, further analyses, and any warnings or suggestions if the run seems to be abnormal.\n",
    "\n",
    "This HTML report is created from a jupyter notebook at \n",
    "\n",
    "`cellbender/cellbender/remove-background/report.ipynb`\n",
    "\n",
    "within the CellBender codebase.  Feel free to run the notebook yourself and make any changes you see fit, or use it as a starting point for further analyses."
   ]
  },
  {
   "cell_type": "markdown",
   "metadata": {},
   "source": [
    "*The commentary in this report is generated using automated heuristics and best guesses based on hundreds of real datasets.  If any of the automated commentary in this report seems incorrect for your dataset, please submit a question or an issue at our github repository https://github.com/broadinstitute/CellBender*"
   ]
  },
  {
   "cell_type": "markdown",
   "metadata": {},
   "source": [
    "Cellarium Lab .. Methods Group .. Data Sciences Platform .. Broad Institute"
   ]
  },
  {
   "cell_type": "markdown",
   "metadata": {},
   "source": [
    "-----------"
   ]
  },
  {
   "cell_type": "code",
   "execution_count": null,
   "metadata": {},
   "outputs": [],
   "source": [
    "from cellbender.remove_background.report import generate_summary_plots"
   ]
  },
  {
   "cell_type": "markdown",
   "metadata": {},
   "source": [
    "## Input and output files"
   ]
  },
  {
   "cell_type": "markdown",
   "metadata": {},
   "source": [
    "(Modify this section if you run this notebook yourself.)"
   ]
  },
  {
   "cell_type": "code",
   "execution_count": null,
   "metadata": {},
   "outputs": [],
   "source": [
    "# Allows us to get the filenames without needing to rewrite this notebook\n",
    "\n",
    "import os\n",
    "input_file = os.environ['INPUT_FILE']\n",
    "output_file = os.environ['OUTPUT_FILE']\n",
    "\n",
    "# For the case of a simulated dataset where we have the ground truth\n",
    "try:\n",
    "    truth_file = os.environ['TRUTH_FILE']\n",
    "except KeyError:\n",
    "    truth_file = None\n",
    "\n",
    "print(f'Input file: {input_file}')\n",
    "print(f'Output file: {output_file}')\n",
    "if truth_file is not None:\n",
    "    print(f'Simulated truth file: {truth_file}')"
   ]
  },
  {
   "cell_type": "markdown",
   "metadata": {},
   "source": [
    "# Report"
   ]
  },
  {
   "cell_type": "code",
   "execution_count": null,
   "metadata": {
    "scrolled": false
   },
   "outputs": [],
   "source": [
    "generate_summary_plots(input_file=input_file, \n",
    "                       output_file=output_file,\n",
    "                       truth_file=truth_file)"
   ]
  }
 ],
 "metadata": {
  "kernelspec": {
   "display_name": "Python 3",
   "language": "python",
   "name": "python3"
  },
  "language_info": {
   "codemirror_mode": {
    "name": "ipython",
    "version": 3
   },
   "file_extension": ".py",
   "mimetype": "text/x-python",
   "name": "python",
   "nbconvert_exporter": "python",
   "pygments_lexer": "ipython3",
   "version": "3.7.9"
  }
 },
 "nbformat": 4,
 "nbformat_minor": 2
}
